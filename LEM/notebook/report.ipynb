{
 "cells": [
  {
   "cell_type": "markdown",
   "metadata": {},
   "source": [
    "Hyper-Q Product Testing - Analytical Report - LEM"
   ]
  },
  {
   "cell_type": "code",
   "execution_count": 1,
   "metadata": {},
   "outputs": [],
   "source": [
    "import subprocess\n",
    "import sys\n",
    "\n",
    "sys.path.append(\"..\")\n",
    "sys.path.append(\"../../analysis\")\n",
    "\n",
    "hyper = True\n",
    "episodes = 2000\n",
    "interval = 100\n",
    "warmups=1000\n",
    "dyna_size = 250\n",
    "q_type = \"q\"\n",
    "memory = 1000\n",
    "policy = \"onpolicy\"\n",
    "obsession = True\n",
    "randomize = True\n",
    "dump = False\n",
    "\n",
    "title = \"LEM\"\n",
    "project_title = \"\"\n",
    "if hyper :\n",
    "    title = f\"{title} Hyper \"\n",
    "    project_title = \"hyper\"\n",
    "\n",
    "title = f\"{title} {q_type.upper()} Heatmap e{episodes} w{warmups} m{memory}\"\n",
    "project_title = f\"{project_title}-{q_type}-{episodes}x{interval}-{policy}-w{warmups}-mem{memory}\"\n",
    "\n",
    "if dyna_size > 0 :\n",
    "    title = f\"{title} {dyna_size} Dyna x 75\"\n",
    "    project_title = f\"{project_title}-dyna-{dyna_size}-75\"\n",
    "else :\n",
    "    title = f\"{title} No Dyna\"\n",
    "\n",
    "if obsession:\n",
    "    title = f\"{title} Obsession\"\n",
    "    project_title = f\"{project_title}-obsession\"\n"
   ]
  },
  {
   "cell_type": "code",
   "execution_count": 2,
   "metadata": {},
   "outputs": [],
   "source": [
    "\n",
    "with open(\"input.in\",\"w\") as fp :\n",
    "    fp.write(f\"{episodes}\\n\")\n",
    "    fp.write(f\"{interval}\\n\")\n",
    "    fp.write(f\"memory_size={memory}\\n\")\n",
    "    fp.write(\"episodic\\n\")\n",
    "    fp.write(f\"{policy}\\n\")\n",
    "    if(hyper) :\n",
    "        fp.write(\"hyper\\n\")\n",
    "    #LEM does not have a positive reward enough to make this worthy\n",
    "    #fp.write(\"negpos\\n\")\n",
    "    if(randomize) :\n",
    "        fp.write(\"randomize\\n\")\n",
    "    if(obsession) :\n",
    "        fp.write(\"obsession\\n\")\n",
    "    fp.write(f\"dyna_size={dyna_size}\\n\")\n",
    "    fp.write(\"dyna_iters=75\\n\")\n",
    "    fp.write(f\"warmup={warmups}\\n\")\n",
    "    fp.write(\"a=1,.9999997,.65\\n\")\n",
    "    fp.write(\"g=0.997,1\\n\")\n",
    "    fp.write(\"e=0.9,.9999991,.1\\n\")\n",
    "    fp.write(\"h=0.6,.99999991,0.0\\n\")\n",
    "    fp.write(f\"{q_type}\\n\")\n",
    "\n"
   ]
  },
  {
   "cell_type": "code",
   "execution_count": 3,
   "metadata": {},
   "outputs": [
    {
     "name": "stdout",
     "output_type": "stream",
     "text": [
      "Reading input from input.in\n",
      "cmdline: 2000\n",
      "cmdline: 100\n",
      "cmdline: memory_size=1000\n",
      "cmdline: episodic\n",
      "cmdline: onpolicy\n",
      "cmdline: hyper\n",
      "cmdline: randomize\n",
      "cmdline: obsession\n",
      "cmdline: dyna_size=250\n",
      "cmdline: dyna_iters=75\n",
      "cmdline: warmup=1000\n",
      "cmdline: a=1,.9999997,.65\n",
      "cmdline: g=0.997,1\n",
      "cmdline: e=0.9,.9999991,.1\n",
      "cmdline: h=0.6,.99999991,0.0\n",
      "cmdline: q\n",
      "g=0.997, decay=1, min=0.997\n",
      "e=0.9, decay=0.9999991, min=0.1\n",
      "a=1, decay=0.9999997, min=0.65\n",
      "t=0.95, decay=1, min=0.95\n",
      "Q enabled\n",
      "HYPER enabled\n",
      "Dyna enabled 250\n",
      "Dyna freq 0.2\n",
      "Memory enabled 1000 EPISODIC\n",
      "warmups enabled 1000\n",
      "ON Policy Evaluation\n",
      "Randomizing training Worlds\n",
      "==Q==\n",
      "Num Actions=1921/1921, state offset=0, action offset=0\n",
      "== Env Metrics ==\n",
      "   Total Reward: -412.196904749502\n",
      "   Average Reward: -231.770692825369 over 2021 episodes\n",
      "   # Actions Taken: 33\n",
      "   Episodes Take: 82.84 ms\n",
      "   Total Episode Time: 167412.34 ms\n",
      "   Reminiscing Takes: 51.00 ms\n",
      "   Total Reminiscing Time: 101993.46 ms (60.92 %)\n",
      "   Action Selection Takes: 0.00 ms\n",
      "   Total Action Selection Time: 79.09 ms\n",
      "   Dyna Takes: 0.16 ms\n",
      "   Total Dyna Time: 5086.17 ms (3.04 %)\n",
      "   Updates Take: 0.02 ms\n",
      "   Total Updates Time: 664.67 ms (0.40 %)\n",
      "   # States Visited: 1\n",
      "   -- Action History --\n",
      "      1580:6\n",
      "      1741:1\n",
      "      4:26\n",
      "Best episode reward: 38.2743440453206\n",
      "388->*340->*246->*608->*598->*640->*781->*1021->*629->*552->*979->*1440->*1728->*453->*258->*1088->*212->*867->*1292->*1608->[END]\n",
      "===================================================================================\n",
      "Best Action Sequence Replay\n",
      "Run took 00:04:31.6813068\n",
      "g=0.997, decay=1, min=0.997\n",
      "e=0.898381456397954, decay=0.9999991, min=0.1\n",
      "a=0.999400179874154, decay=0.9999997, min=0.65\n",
      "t=0.95, decay=1, min=0.95\n",
      "\n"
     ]
    }
   ],
   "source": [
    "s = subprocess.check_output([\"../Game/bin/x64/Release/LEM.exe\",\"/in=input.in\"],stderr=subprocess.STDOUT)\n",
    "o = s.decode('utf-8')\n",
    "print(o)\n",
    "\n"
   ]
  },
  {
   "cell_type": "code",
   "execution_count": 4,
   "metadata": {},
   "outputs": [
    {
     "name": "stdout",
     "output_type": "stream",
     "text": [
      "eval-99-2000x100-onpolicy.gif\n",
      "eval-199-2000x100-onpolicy.gif\n",
      "eval-299-2000x100-onpolicy.gif\n",
      "eval-399-2000x100-onpolicy.gif\n",
      "eval-499-2000x100-onpolicy.gif\n",
      "eval-599-2000x100-onpolicy.gif\n",
      "eval-699-2000x100-onpolicy.gif\n",
      "eval-799-2000x100-onpolicy.gif\n",
      "eval-899-2000x100-onpolicy.gif\n",
      "eval-999-2000x100-onpolicy.gif\n",
      "eval-1099-2000x100-onpolicy.gif\n",
      "eval-1199-2000x100-onpolicy.gif\n",
      "eval-1299-2000x100-onpolicy.gif\n",
      "eval-1399-2000x100-onpolicy.gif\n",
      "eval-1499-2000x100-onpolicy.gif\n",
      "eval-1599-2000x100-onpolicy.gif\n",
      "eval-1699-2000x100-onpolicy.gif\n",
      "eval-1799-2000x100-onpolicy.gif\n",
      "eval-1899-2000x100-onpolicy.gif\n",
      "eval-1999-2000x100-onpolicy.gif\n",
      "eval-best-2000x100-onpolicy.gif\n"
     ]
    }
   ],
   "source": [
    "import asciiv\n",
    "colors = {\n",
    "    '+' : (255,255,255),\n",
    "    '-' : (255,255,255),\n",
    "    '/' : (255,255,255),\n",
    "    '\\\\' : (255,255,255),\n",
    "    '~' : (0,255,0),\n",
    "    '*' : (255,0,0)\n",
    "}\n",
    "\n",
    "import os\n",
    "ir = range(interval-1,episodes,interval)\n",
    "for i in ir :\n",
    "    fname = f'eval-{i}-{episodes}x{interval}-{policy}.log'\n",
    "    gif_name = f'eval-{i}-{episodes}x{interval}-{policy}.gif'\n",
    "    if os.path.exists(fname) :\n",
    "        # Parse log file into frames\n",
    "        log_frames = asciiv.parse_log_file(fname)\n",
    "\n",
    "        # Render frames into images\n",
    "        image_frames = [asciiv.render_frame(frame,colors=colors) for frame in log_frames]\n",
    "\n",
    "        # Create animated GIF\n",
    "        asciiv.create_animated_gif(image_frames, gif_name)\n",
    "        print(gif_name)\n",
    "\n",
    "fname = f'eval-best-{episodes}x{interval}-{policy}.log'\n",
    "gif_name = f'eval-best-{episodes}x{interval}-{policy}.gif'\n",
    "if os.path.exists(fname) :\n",
    "    # Parse log file into frames\n",
    "    log_frames = asciiv.parse_log_file(fname)\n",
    "\n",
    "    # Render frames into images\n",
    "    image_frames = [asciiv.render_frame(frame,colors=colors) for frame in log_frames]\n",
    "\n",
    "    # Create animated GIF\n",
    "    asciiv.create_animated_gif(image_frames, gif_name)\n",
    "    print(gif_name)"
   ]
  },
  {
   "cell_type": "code",
   "execution_count": 5,
   "metadata": {},
   "outputs": [],
   "source": [
    "import numpy as np\n",
    "import pandas as pd\n",
    "import matplotlib.pyplot as plt\n",
    "import matplotlib.ticker as mticker\n",
    "import matplotlib.dates as mdates\n"
   ]
  },
  {
   "cell_type": "code",
   "execution_count": 6,
   "metadata": {},
   "outputs": [],
   "source": [
    "\n",
    "import HeatMap\n",
    "\n",
    "#\n",
    "# Load the files manifest and process the heatmaps for each files\n",
    "# The matrix from LEM is very very very very large. Only sample some of\n",
    "# the actions to keep the display coherence readable\n",
    "#\n",
    "actions = [5, 12, 28, 36, 75, 89, 110, 175, 250, 310, 476, 520, 650, 721]\n",
    "with open(\"frames.txt\") as fp:\n",
    "    l = fp.readlines()\n",
    "    fig,ax = plt.subplots(figsize=(11,8))\n",
    "    ylabels = [f'#{i}' for i in actions]\n",
    "    # ylabels = [f'{i}' for i in range(1921)]\n",
    "    png_files = []\n",
    "    for s in l :\n",
    "        s = s.strip()\n",
    "        print(f'Reading matrix file {s}')\n",
    "        q1 = np.loadtxt(s,delimiter=',',usecols=actions)\n",
    "        fig,ax1 = plt.subplots(figsize=(11,8))\n",
    "        im,_ = HeatMap.heatmap(q1.T, ylabels,None,ax=ax1,cmap=\"RdBu\",cbarlabel=f\"{q_type.upper()} Value\",aspect='auto')\n",
    "        ax1.title.set_text(title)\n",
    "        fname = s.replace(\".csv\",\"_heatmap.png\")\n",
    "        fig.savefig(fname, facecolor=fig.get_facecolor())\n",
    "        png_files.append(fname)\n",
    "        plt.close(fig)\n",
    "plt.close()\n",
    "\n"
   ]
  },
  {
   "cell_type": "code",
   "execution_count": 7,
   "metadata": {},
   "outputs": [],
   "source": [
    "import animate\n",
    "animation_file = f'LEM-{project_title}.gif'\n",
    "ai = None\n",
    "if len(png_files) > 0 :\n",
    "    ai = animate.animate(\".\",png_files,output_path=animation_file)"
   ]
  },
  {
   "cell_type": "code",
   "execution_count": 8,
   "metadata": {},
   "outputs": [],
   "source": [
    "from IPython.display import Image"
   ]
  },
  {
   "cell_type": "code",
   "execution_count": 9,
   "metadata": {},
   "outputs": [],
   "source": [
    "if not ai is None :\n",
    "    Image(url=ai)"
   ]
  },
  {
   "cell_type": "code",
   "execution_count": 10,
   "metadata": {},
   "outputs": [
    {
     "data": {
      "image/png": "[encoded data removed]",
      "text/plain": [
       "<Figure size 640x480 with 2 Axes>"
      ]
     },
     "metadata": {},
     "output_type": "display_data"
    }
   ],
   "source": [
    "\n",
    "q1 = pd.read_csv(f\"lem-result-{episodes}.csv\",sep=',',header=0)\n",
    "fig,ax1 = plt.subplots()\n",
    "color = \"blue\"\n",
    "ax1.set_xlabel(\"Episode\")\n",
    "ax1.set_ylabel(\"Average Reward\", color=color)\n",
    "ax1.plot(q1[\"avgreward\"],color=color)\n",
    "ax2 = ax1.twinx()\n",
    "color = \"red\"\n",
    "ax2.set_ylabel(\"# Landings\")\n",
    "ax2.plot(q1[\"landed\"],color=color)\n",
    "plt.title(f'{title}\\nAverage Reward and Landings over Episodes')\n",
    "fig.tight_layout()\n",
    "fig_filename = f\"{project_title}-Reward-Landing-Analysis.png\"\n",
    "fig.savefig(fig_filename, facecolor=fig.get_facecolor())\n",
    "plt.show()"
   ]
  },
  {
   "cell_type": "code",
   "execution_count": 11,
   "metadata": {},
   "outputs": [
    {
     "name": "stdout",
     "output_type": "stream",
     "text": [
      "Landing pct=0.0\n"
     ]
    },
    {
     "data": {
      "text/html": [
       "<div>\n",
       "<style scoped>\n",
       "    .dataframe tbody tr th:only-of-type {\n",
       "        vertical-align: middle;\n",
       "    }\n",
       "\n",
       "    .dataframe tbody tr th {\n",
       "        vertical-align: top;\n",
       "    }\n",
       "\n",
       "    .dataframe thead th {\n",
       "        text-align: right;\n",
       "    }\n",
       "</style>\n",
       "<table border=\"1\" class=\"dataframe\">\n",
       "  <thead>\n",
       "    <tr style=\"text-align: right;\">\n",
       "      <th></th>\n",
       "      <th>crashed</th>\n",
       "      <th>freefall</th>\n",
       "      <th>landing</th>\n",
       "      <th>landed</th>\n",
       "      <th>totalreward</th>\n",
       "      <th>avgreward</th>\n",
       "      <th>epsilon</th>\n",
       "      <th>alpha</th>\n",
       "    </tr>\n",
       "  </thead>\n",
       "  <tbody>\n",
       "    <tr>\n",
       "      <th>count</th>\n",
       "      <td>2000.000000</td>\n",
       "      <td>2000.0</td>\n",
       "      <td>2000.0</td>\n",
       "      <td>2000.0</td>\n",
       "      <td>2000.000000</td>\n",
       "      <td>2000.000000</td>\n",
       "      <td>2000.000000</td>\n",
       "      <td>2000.000000</td>\n",
       "    </tr>\n",
       "    <tr>\n",
       "      <th>mean</th>\n",
       "      <td>1000.500000</td>\n",
       "      <td>0.0</td>\n",
       "      <td>0.0</td>\n",
       "      <td>0.0</td>\n",
       "      <td>-231.663050</td>\n",
       "      <td>-229.168220</td>\n",
       "      <td>0.899190</td>\n",
       "      <td>0.999700</td>\n",
       "    </tr>\n",
       "    <tr>\n",
       "      <th>std</th>\n",
       "      <td>577.494589</td>\n",
       "      <td>0.0</td>\n",
       "      <td>0.0</td>\n",
       "      <td>0.0</td>\n",
       "      <td>76.312585</td>\n",
       "      <td>3.239649</td>\n",
       "      <td>0.000467</td>\n",
       "      <td>0.000173</td>\n",
       "    </tr>\n",
       "    <tr>\n",
       "      <th>min</th>\n",
       "      <td>1.000000</td>\n",
       "      <td>0.0</td>\n",
       "      <td>0.0</td>\n",
       "      <td>0.0</td>\n",
       "      <td>-1016.025372</td>\n",
       "      <td>-253.828664</td>\n",
       "      <td>0.898381</td>\n",
       "      <td>0.999400</td>\n",
       "    </tr>\n",
       "    <tr>\n",
       "      <th>25%</th>\n",
       "      <td>500.750000</td>\n",
       "      <td>0.0</td>\n",
       "      <td>0.0</td>\n",
       "      <td>0.0</td>\n",
       "      <td>-277.820616</td>\n",
       "      <td>-230.545561</td>\n",
       "      <td>0.898786</td>\n",
       "      <td>0.999550</td>\n",
       "    </tr>\n",
       "    <tr>\n",
       "      <th>50%</th>\n",
       "      <td>1000.500000</td>\n",
       "      <td>0.0</td>\n",
       "      <td>0.0</td>\n",
       "      <td>0.0</td>\n",
       "      <td>-238.311924</td>\n",
       "      <td>-230.105413</td>\n",
       "      <td>0.899190</td>\n",
       "      <td>0.999700</td>\n",
       "    </tr>\n",
       "    <tr>\n",
       "      <th>75%</th>\n",
       "      <td>1500.250000</td>\n",
       "      <td>0.0</td>\n",
       "      <td>0.0</td>\n",
       "      <td>0.0</td>\n",
       "      <td>-192.982262</td>\n",
       "      <td>-229.315812</td>\n",
       "      <td>0.899594</td>\n",
       "      <td>0.999850</td>\n",
       "    </tr>\n",
       "    <tr>\n",
       "      <th>max</th>\n",
       "      <td>2000.000000</td>\n",
       "      <td>0.0</td>\n",
       "      <td>0.0</td>\n",
       "      <td>0.0</td>\n",
       "      <td>38.274344</td>\n",
       "      <td>-186.404038</td>\n",
       "      <td>0.899999</td>\n",
       "      <td>1.000000</td>\n",
       "    </tr>\n",
       "  </tbody>\n",
       "</table>\n",
       "</div>"
      ],
      "text/plain": [
       "           crashed  freefall  landing  landed  totalreward    avgreward  \\\n",
       "count  2000.000000    2000.0   2000.0  2000.0  2000.000000  2000.000000   \n",
       "mean   1000.500000       0.0      0.0     0.0  -231.663050  -229.168220   \n",
       "std     577.494589       0.0      0.0     0.0    76.312585     3.239649   \n",
       "min       1.000000       0.0      0.0     0.0 -1016.025372  -253.828664   \n",
       "25%     500.750000       0.0      0.0     0.0  -277.820616  -230.545561   \n",
       "50%    1000.500000       0.0      0.0     0.0  -238.311924  -230.105413   \n",
       "75%    1500.250000       0.0      0.0     0.0  -192.982262  -229.315812   \n",
       "max    2000.000000       0.0      0.0     0.0    38.274344  -186.404038   \n",
       "\n",
       "           epsilon        alpha  \n",
       "count  2000.000000  2000.000000  \n",
       "mean      0.899190     0.999700  \n",
       "std       0.000467     0.000173  \n",
       "min       0.898381     0.999400  \n",
       "25%       0.898786     0.999550  \n",
       "50%       0.899190     0.999700  \n",
       "75%       0.899594     0.999850  \n",
       "max       0.899999     1.000000  "
      ]
     },
     "execution_count": 11,
     "metadata": {},
     "output_type": "execute_result"
    }
   ],
   "source": [
    "landingpct = q1.landed.max() / q1.shape[0]\n",
    "print(f'Landing pct={landingpct*100.0}')\n",
    "q1.describe()"
   ]
  },
  {
   "cell_type": "code",
   "execution_count": 13,
   "metadata": {},
   "outputs": [],
   "source": [
    "import graphit\n",
    "\n",
    "gfname = f'lem-telemetry-{episodes}-final.csv'\n",
    "window = 10000\n",
    "goutput = f'lem-{episodes}-analysis.png'"
   ]
  },
  {
   "cell_type": "code",
   "execution_count": 14,
   "metadata": {},
   "outputs": [
    {
     "name": "stdout",
     "output_type": "stream",
     "text": [
      "Average reward from hitting the surface: -229.4778550673857 +/- 66.01208945557259\n",
      "Bounds of reward from hitting the surface: [-372.101077297478 , 38.2743440453206]\n",
      "Average speed at surface impact: 0.2733875986571004 +/- 0.05809461209738349\n",
      "Average reward from fuel outage: -246.32544602591042 +/- 159.25596991048494\n",
      "Bounds of reward from fuel outage: [-533.235349689168 , 11.9972527638337]\n"
     ]
    },
    {
     "data": {
      "text/plain": [
       "['[LEM] Average reward from hitting the surface: -229.4778550673857 +/- 66.01208945557259',\n",
       " '[LEM] Bounds of reward from hitting the surface: [-372.101077297478 , 38.2743440453206]',\n",
       " '[LEM] Average speed at surface impact: 0.2733875986571004 +/- 0.05809461209738349',\n",
       " '[LEM] Average reward from fuel outage: -246.32544602591042 +/- 159.25596991048494',\n",
       " '[LEM] Bounds of reward from fuel outage: [-533.235349689168 , 11.9972527638337]']"
      ]
     },
     "execution_count": 14,
     "metadata": {},
     "output_type": "execute_result"
    }
   ],
   "source": [
    "graphit.dograph(gfname, window, goutput)"
   ]
  },
  {
   "cell_type": "code",
   "execution_count": 15,
   "metadata": {},
   "outputs": [
    {
     "data": {
      "text/html": [
       "<img src=\"lem-2000-analysis.png\"/>"
      ],
      "text/plain": [
       "<IPython.core.display.Image object>"
      ]
     },
     "execution_count": 15,
     "metadata": {},
     "output_type": "execute_result"
    }
   ],
   "source": [
    "Image(url=goutput)"
   ]
  },
  {
   "cell_type": "code",
   "execution_count": null,
   "metadata": {},
   "outputs": [],
   "source": []
  }
 ],
 "metadata": {
  "kernelspec": {
   "display_name": "trading",
   "language": "python",
   "name": "python3"
  },
  "language_info": {
   "codemirror_mode": {
    "name": "ipython",
    "version": 3
   },
   "file_extension": ".py",
   "mimetype": "text/x-python",
   "name": "python",
   "nbconvert_exporter": "python",
   "pygments_lexer": "ipython3",
   "version": "3.11.11"
  }
 },
 "nbformat": 4,
 "nbformat_minor": 2
}
